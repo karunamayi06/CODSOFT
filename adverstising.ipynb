{
  "nbformat": 4,
  "nbformat_minor": 0,
  "metadata": {
    "colab": {
      "provenance": [],
      "authorship_tag": "ABX9TyP5tsLkFGD7hQk7xKHHUzAK",
      "include_colab_link": true
    },
    "kernelspec": {
      "name": "python3",
      "display_name": "Python 3"
    },
    "language_info": {
      "name": "python"
    }
  },
  "cells": [
    {
      "cell_type": "markdown",
      "metadata": {
        "id": "view-in-github",
        "colab_type": "text"
      },
      "source": [
        "<a href=\"https://colab.research.google.com/github/karunamayi06/CODSOFT/blob/main/adverstising.ipynb\" target=\"_parent\"><img src=\"https://colab.research.google.com/assets/colab-badge.svg\" alt=\"Open In Colab\"/></a>"
      ]
    },
    {
      "cell_type": "code",
      "source": [
        "import streamlit as st\n",
        "import pandas as pd\n",
        "from sklearn.linear_model import LinearRegression\n",
        "\n",
        "st.title(\"Sales Prediction!!!\")\n",
        "st.write(\"Give the input values on the side slider to get your predictions\")\n",
        "\n",
        "@st.cache_data\n",
        "def load_data():\n",
        "    df = pd.read_csv(r\"C:\\Users\\ASUS VivoBook 15\\Desktop\\archive (13)\\advertising.csv\")\n",
        "    return df\n",
        "\n",
        "df = load_data()\n",
        "model = LinearRegression()\n",
        "model.fit(df[['TV', 'Radio', 'Newspaper']], df['Sales'])\n",
        "\n",
        "st.sidebar.title(\"Input Features\")\n",
        "TV = st.sidebar.slider(\"TV\", float(df['TV'].min()), float(df['TV'].max()))\n",
        "Radio = st.sidebar.slider(\"Radio\", float(df['Radio'].min()), float(df['Radio'].max()))\n",
        "Newspaper = st.sidebar.slider(\"Newspaper\", float(df['Newspaper'].min()), float(df['Newspaper'].max()))\n",
        "\n",
        "input_data = [[TV, Radio, Newspaper]]\n",
        "prediction = model.predict(input_data)\n",
        "\n",
        "st.write(\"Prediction\")\n",
        "st.write(f\"The predicted sales are: {prediction[0]:.2f}\")\n"
      ],
      "metadata": {
        "id": "YxohvV72CRi3"
      },
      "execution_count": null,
      "outputs": []
    },
    {
      "cell_type": "code",
      "source": [
        "df.isnull().sum()"
      ],
      "metadata": {
        "colab": {
          "base_uri": "https://localhost:8080/",
          "height": 209
        },
        "id": "8Gfk_hRj1fLJ",
        "outputId": "d621695e-d391-4f9b-86ba-d6002fd6365e"
      },
      "execution_count": 8,
      "outputs": [
        {
          "output_type": "execute_result",
          "data": {
            "text/plain": [
              "TV           0\n",
              "Radio        0\n",
              "Newspaper    0\n",
              "Sales        0\n",
              "dtype: int64"
            ],
            "text/html": [
              "<div>\n",
              "<style scoped>\n",
              "    .dataframe tbody tr th:only-of-type {\n",
              "        vertical-align: middle;\n",
              "    }\n",
              "\n",
              "    .dataframe tbody tr th {\n",
              "        vertical-align: top;\n",
              "    }\n",
              "\n",
              "    .dataframe thead th {\n",
              "        text-align: right;\n",
              "    }\n",
              "</style>\n",
              "<table border=\"1\" class=\"dataframe\">\n",
              "  <thead>\n",
              "    <tr style=\"text-align: right;\">\n",
              "      <th></th>\n",
              "      <th>0</th>\n",
              "    </tr>\n",
              "  </thead>\n",
              "  <tbody>\n",
              "    <tr>\n",
              "      <th>TV</th>\n",
              "      <td>0</td>\n",
              "    </tr>\n",
              "    <tr>\n",
              "      <th>Radio</th>\n",
              "      <td>0</td>\n",
              "    </tr>\n",
              "    <tr>\n",
              "      <th>Newspaper</th>\n",
              "      <td>0</td>\n",
              "    </tr>\n",
              "    <tr>\n",
              "      <th>Sales</th>\n",
              "      <td>0</td>\n",
              "    </tr>\n",
              "  </tbody>\n",
              "</table>\n",
              "</div><br><label><b>dtype:</b> int64</label>"
            ]
          },
          "metadata": {},
          "execution_count": 8
        }
      ]
    }
  ]
}